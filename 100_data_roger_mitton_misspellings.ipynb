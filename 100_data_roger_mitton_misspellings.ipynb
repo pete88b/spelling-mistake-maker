{
 "cells": [
  {
   "cell_type": "markdown",
   "id": "ae0178cc",
   "metadata": {},
   "source": [
    "# Prep some data for training\n",
    "\n",
    "see:\n",
    "- https://www.dcs.bbk.ac.uk/~ROGER/corpora.html"
   ]
  },
  {
   "cell_type": "code",
   "execution_count": 1,
   "id": "e5e0c140",
   "metadata": {},
   "outputs": [],
   "source": [
    "import re, random, json\n",
    "import pandas as pd\n",
    "from pathlib import Path"
   ]
  },
  {
   "cell_type": "code",
   "execution_count": 2,
   "id": "b404f89e",
   "metadata": {},
   "outputs": [],
   "source": [
    "path = Path('data/RogerMitton')"
   ]
  },
  {
   "cell_type": "code",
   "execution_count": 3,
   "id": "cc04575e",
   "metadata": {},
   "outputs": [],
   "source": [
    "def word_filter(first_word):\n",
    "    \"keep words that contain only characters and hyphens and are not too short\"\n",
    "    if len(first_word) < 4:\n",
    "        return False\n",
    "    if re.match(r'^[-a-zA-Z]+$', first_word) is None:\n",
    "        return False\n",
    "    return True"
   ]
  },
  {
   "cell_type": "code",
   "execution_count": 4,
   "id": "291e886f",
   "metadata": {},
   "outputs": [
    {
     "name": "stdout",
     "output_type": "stream",
     "text": [
      "reading data\\RogerMitton\\raw\\aspell.dat\n",
      "reading data\\RogerMitton\\raw\\holbrook-missp.dat\n",
      "skipping tagged version data\\RogerMitton\\raw\\holbrook-tagged.dat\n",
      "reading data\\RogerMitton\\raw\\missp.dat\n",
      "reading data\\RogerMitton\\raw\\wikipedia.dat\n"
     ]
    },
    {
     "data": {
      "text/html": [
       "<div>\n",
       "<style scoped>\n",
       "    .dataframe tbody tr th:only-of-type {\n",
       "        vertical-align: middle;\n",
       "    }\n",
       "\n",
       "    .dataframe tbody tr th {\n",
       "        vertical-align: top;\n",
       "    }\n",
       "\n",
       "    .dataframe thead th {\n",
       "        text-align: right;\n",
       "    }\n",
       "</style>\n",
       "<table border=\"1\" class=\"dataframe\">\n",
       "  <thead>\n",
       "    <tr style=\"text-align: right;\">\n",
       "      <th></th>\n",
       "      <th>correct</th>\n",
       "      <th>mistake</th>\n",
       "    </tr>\n",
       "  </thead>\n",
       "  <tbody>\n",
       "    <tr>\n",
       "      <th>1846</th>\n",
       "      <td>A-QUIVER</td>\n",
       "      <td>AQUIVER</td>\n",
       "    </tr>\n",
       "    <tr>\n",
       "      <th>34814</th>\n",
       "      <td>ABANDON</td>\n",
       "      <td>ABONDON</td>\n",
       "    </tr>\n",
       "    <tr>\n",
       "      <th>34815</th>\n",
       "      <td>ABANDONED</td>\n",
       "      <td>ABONDONED</td>\n",
       "    </tr>\n",
       "    <tr>\n",
       "      <th>34816</th>\n",
       "      <td>ABANDONING</td>\n",
       "      <td>ABONDONING</td>\n",
       "    </tr>\n",
       "    <tr>\n",
       "      <th>34817</th>\n",
       "      <td>ABANDONS</td>\n",
       "      <td>ABONDONS</td>\n",
       "    </tr>\n",
       "    <tr>\n",
       "      <th>...</th>\n",
       "      <td>...</td>\n",
       "      <td>...</td>\n",
       "    </tr>\n",
       "    <tr>\n",
       "      <th>34729</th>\n",
       "      <td>YOUTH</td>\n",
       "      <td>YUTH</td>\n",
       "    </tr>\n",
       "    <tr>\n",
       "      <th>34730</th>\n",
       "      <td>ZEALOUS</td>\n",
       "      <td>ZELOUS</td>\n",
       "    </tr>\n",
       "    <tr>\n",
       "      <th>34731</th>\n",
       "      <td>ZENITH</td>\n",
       "      <td>ZEENITH</td>\n",
       "    </tr>\n",
       "    <tr>\n",
       "      <th>34812</th>\n",
       "      <td>ZIONIST</td>\n",
       "      <td>SIONIST</td>\n",
       "    </tr>\n",
       "    <tr>\n",
       "      <th>34813</th>\n",
       "      <td>ZIONISTS</td>\n",
       "      <td>SIONISTS</td>\n",
       "    </tr>\n",
       "  </tbody>\n",
       "</table>\n",
       "<p>36058 rows × 2 columns</p>\n",
       "</div>"
      ],
      "text/plain": [
       "          correct     mistake\n",
       "1846     A-QUIVER     AQUIVER\n",
       "34814     ABANDON     ABONDON\n",
       "34815   ABANDONED   ABONDONED\n",
       "34816  ABANDONING  ABONDONING\n",
       "34817    ABANDONS    ABONDONS\n",
       "...           ...         ...\n",
       "34729       YOUTH        YUTH\n",
       "34730     ZEALOUS      ZELOUS\n",
       "34731      ZENITH     ZEENITH\n",
       "34812     ZIONIST     SIONIST\n",
       "34813    ZIONISTS    SIONISTS\n",
       "\n",
       "[36058 rows x 2 columns]"
      ]
     },
     "execution_count": 4,
     "metadata": {},
     "output_type": "execute_result"
    }
   ],
   "source": [
    "data = []\n",
    "for file_path in (path/'raw').glob('*.dat'):\n",
    "    if 'tagged' in file_path.name:\n",
    "        print('skipping tagged version', file_path) # holbrook-missp contains the misspellings extracted from the tagged file ...\n",
    "        continue\n",
    "    print('reading', file_path)\n",
    "    with open(file_path) as f:\n",
    "        correct_word = None\n",
    "        for line in f:\n",
    "            try:\n",
    "                if line.startswith('$'):\n",
    "                    correct_word = line[1:].strip()\n",
    "                else:\n",
    "                    bad_word = line.split(' ')[0].strip()\n",
    "                    if word_filter(correct_word) and word_filter(bad_word):\n",
    "                        data.append(dict(correct=correct_word, mistake=bad_word))\n",
    "            except Exception as ex:\n",
    "                print(line)\n",
    "                raise ex\n",
    "df = pd.DataFrame(data)\n",
    "for c in df.columns:\n",
    "    df[c] = df[c].str.upper()\n",
    "df = df.drop_duplicates().sort_values(['correct', 'mistake'])\n",
    "df"
   ]
  },
  {
   "cell_type": "code",
   "execution_count": 5,
   "id": "4ef615fd",
   "metadata": {},
   "outputs": [],
   "source": [
    "df.to_csv(path/'roger_mitton_common_misspellings.csv', index=False)"
   ]
  }
 ],
 "metadata": {
  "kernelspec": {
   "display_name": "Python 3 (ipykernel)",
   "language": "python",
   "name": "python3"
  },
  "language_info": {
   "codemirror_mode": {
    "name": "ipython",
    "version": 3
   },
   "file_extension": ".py",
   "mimetype": "text/x-python",
   "name": "python",
   "nbconvert_exporter": "python",
   "pygments_lexer": "ipython3",
   "version": "3.9.0"
  }
 },
 "nbformat": 4,
 "nbformat_minor": 5
}
